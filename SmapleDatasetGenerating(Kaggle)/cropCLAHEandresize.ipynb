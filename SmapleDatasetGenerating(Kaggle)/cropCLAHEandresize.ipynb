{
 "cells": [
  {
   "cell_type": "code",
   "execution_count": 1,
   "id": "007eebd3",
   "metadata": {},
   "outputs": [],
   "source": [
    "import cv2\n",
    "from matplotlib import pyplot as plt\n",
    "import numpy as np\n",
    " \n",
    "import pandas as pd"
   ]
  },
  {
   "cell_type": "markdown",
   "id": "3e17ab01",
   "metadata": {},
   "source": [
    "## playground"
   ]
  },
  {
   "cell_type": "code",
   "execution_count": null,
   "id": "d08f2c26",
   "metadata": {},
   "outputs": [],
   "source": [
    "\n",
    "x='44146_right'\n",
    "\n",
    "image = cv2.imread(  x + '.jpeg', cv2.IMREAD_UNCHANGED)\n",
    "\n",
    "# resized = cv2.resize(image, (150,150),interpolation = cv2.INTER_AREA)\n",
    "\n",
    "(B, G, R) = cv2.split(image)\n",
    "\n",
    "clahe = cv2.createCLAHE(clipLimit=2.0, tileGridSize=(8,8))\n",
    "\n",
    "c0 = clahe.apply(B)\n",
    "c1 = clahe.apply(G)\n",
    "c2 = clahe.apply(R)\n",
    "\n",
    "cv2.imwrite(x+ '1.jpeg',B)\n",
    "merged = cv2.merge([c0, c1, c2])\n",
    "\n",
    "cv2.imwrite(x+ 'M.jpeg',merged)\n",
    "\n"
   ]
  },
  {
   "cell_type": "markdown",
   "id": "07934bab",
   "metadata": {},
   "source": [
    "## excute this"
   ]
  },
  {
   "cell_type": "code",
   "execution_count": 18,
   "id": "784fee7a",
   "metadata": {},
   "outputs": [],
   "source": [
    " data = pd.read_csv(\"train500.csv\")"
   ]
  },
  {
   "attachments": {},
   "cell_type": "markdown",
   "id": "82af6507",
   "metadata": {},
   "source": [
    "There is a folder called 'train' which contains all images of dataset"
   ]
  },
  {
   "cell_type": "code",
   "execution_count": 19,
   "id": "73a8768b",
   "metadata": {},
   "outputs": [],
   "source": [
    "for name in data.image:\n",
    "    image = cv2.imread('./train/' + name + '.jpeg', cv2.IMREAD_UNCHANGED)\n",
    "    #crop image (remove black space)     \n",
    "    grayscale = cv2.cvtColor(image, cv2.COLOR_BGR2GRAY)\n",
    "    ret,thresholded = cv2.threshold(grayscale, 0, 255, cv2.THRESH_OTSU)\n",
    "    bbox = cv2.boundingRect(thresholded)\n",
    "    x, y, w, h = bbox\n",
    "    foreground = image[y:y+h, x:x+w]\n",
    "    \n",
    "    \n",
    "    # CLAHE on all channels\n",
    "    (B, G, R) = cv2.split(foreground)\n",
    "\n",
    "    clahe = cv2.createCLAHE(clipLimit=2.0, tileGridSize=(8,8))\n",
    "\n",
    "    c0 = clahe.apply(B)\n",
    "    c1 = clahe.apply(G)\n",
    "    c2 = clahe.apply(R)\n",
    "    \n",
    "    merged = cv2.merge([c0, c1, c2])\n",
    "    resized = cv2.resize(merged, (700,700),interpolation = cv2.INTER_AREA)\n",
    "    cv2.imwrite('./resizedselectedimages/' + name + '.jpeg', resized )\n",
    "    \n",
    "    \n"
   ]
  }
 ],
 "metadata": {
  "kernelspec": {
   "display_name": "Python 3.10.8 64-bit",
   "language": "python",
   "name": "python3"
  },
  "language_info": {
   "codemirror_mode": {
    "name": "ipython",
    "version": 3
   },
   "file_extension": ".py",
   "mimetype": "text/x-python",
   "name": "python",
   "nbconvert_exporter": "python",
   "pygments_lexer": "ipython3",
   "version": "3.10.8 (tags/v3.10.8:aaaf517, Oct 11 2022, 16:50:30) [MSC v.1933 64 bit (AMD64)]"
  },
  "vscode": {
   "interpreter": {
    "hash": "27f6fea6f47ae512550f0b8facdbd035a93e1dd89633f7bf2dd00a2502c71d0d"
   }
  }
 },
 "nbformat": 4,
 "nbformat_minor": 5
}
