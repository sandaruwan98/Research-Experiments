{
 "cells": [
  {
   "cell_type": "code",
   "execution_count": 1,
   "id": "0619d29e",
   "metadata": {},
   "outputs": [],
   "source": [
    "\n",
    "import cv2\n",
    "from matplotlib import pyplot as plt\n",
    "import numpy as np\n",
    " \n",
    "import pandas as pd"
   ]
  },
  {
   "cell_type": "code",
   "execution_count": 6,
   "id": "bfa9706d",
   "metadata": {},
   "outputs": [
    {
     "data": {
      "text/plain": [
       "True"
      ]
     },
     "execution_count": 6,
     "metadata": {},
     "output_type": "execute_result"
    }
   ],
   "source": [
    "\n",
    "name = \"1original.jpeg\"\n",
    "image = cv2.imread(name, cv2.IMREAD_UNCHANGED)\n",
    "\n",
    "#crop image (remove black space)     \n",
    "grayscale = cv2.cvtColor(image, cv2.COLOR_BGR2GRAY)\n",
    "ret,thresholded = cv2.threshold(grayscale, 0, 255, cv2.THRESH_OTSU)\n",
    "bbox = cv2.boundingRect(thresholded)\n",
    "x, y, w, h = bbox\n",
    "foreground = image[y:y+h, x:x+w]\n",
    "cv2.imwrite('2cropped.jpeg', foreground )\n",
    "\n",
    "#resized = cv2.resize(foreground, (512,512),interpolation = cv2.INTER_AREA)\n",
    "\n",
    "# CLAHE on all channels\n",
    "(B, G, R) = cv2.split(foreground)\n",
    "\n",
    "\n",
    "cv2.imwrite('b.jpeg', B )\n",
    "cv2.imwrite('g.jpeg', G )\n",
    "cv2.imwrite('r.jpeg', R )\n",
    "\n",
    "\n",
    "clahe = cv2.createCLAHE(clipLimit=2.0, tileGridSize=(8,8))\n",
    "\n",
    "c0 = clahe.apply(B)\n",
    "c1 = clahe.apply(G)\n",
    "c2 = clahe.apply(R)\n",
    "\n",
    "merged = cv2.merge([c0, c1, c2])\n",
    "\n",
    "\n",
    "cv2.imwrite('3clahe.jpeg', np.hstack((foreground,merged)) )\n",
    "gbluredimage = cv2.GaussianBlur(merged,(5,5),cv2.BORDER_DEFAULT)  \n",
    "cv2.imwrite('4blurred.jpeg',np.hstack((merged,gbluredimage))  )"
   ]
  }
 ],
 "metadata": {
  "kernelspec": {
   "display_name": "Python 3 (ipykernel)",
   "language": "python",
   "name": "python3"
  },
  "language_info": {
   "codemirror_mode": {
    "name": "ipython",
    "version": 3
   },
   "file_extension": ".py",
   "mimetype": "text/x-python",
   "name": "python",
   "nbconvert_exporter": "python",
   "pygments_lexer": "ipython3",
   "version": "3.10.8 (tags/v3.10.8:aaaf517, Oct 11 2022, 16:50:30) [MSC v.1933 64 bit (AMD64)]"
  },
  "vscode": {
   "interpreter": {
    "hash": "27f6fea6f47ae512550f0b8facdbd035a93e1dd89633f7bf2dd00a2502c71d0d"
   }
  }
 },
 "nbformat": 4,
 "nbformat_minor": 5
}
