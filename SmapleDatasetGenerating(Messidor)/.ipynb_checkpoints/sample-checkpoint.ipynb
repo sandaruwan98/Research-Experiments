{
 "cells": [
  {
   "cell_type": "code",
   "execution_count": 56,
   "id": "0619d29e",
   "metadata": {},
   "outputs": [],
   "source": [
    "\n",
    "import cv2\n",
    "from matplotlib import pyplot as plt\n",
    "import numpy as np\n",
    " \n",
    "import pandas as pd"
   ]
  },
  {
   "cell_type": "code",
   "execution_count": 57,
   "id": "bfa9706d",
   "metadata": {},
   "outputs": [],
   "source": [
    "def generate(data,level,folder):\n",
    "    for name in data['Image name']:\n",
    "        name = \"vvfdv\"\n",
    "        image = cv2.imread(name, cv2.IMREAD_UNCHANGED)\n",
    "\n",
    "        #crop image (remove black space)     \n",
    "        grayscale = cv2.cvtColor(image, cv2.COLOR_BGR2GRAY)\n",
    "        ret,thresholded = cv2.threshold(grayscale, 0, 255, cv2.THRESH_OTSU)\n",
    "        bbox = cv2.boundingRect(thresholded)\n",
    "        x, y, w, h = bbox\n",
    "        foreground = image[y:y+h, x:x+w]\n",
    "\n",
    "        \n",
    "        resized = cv2.resize(foreground, (512,512),interpolation = cv2.INTER_AREA)\n",
    "        # CLAHE on all channels\n",
    "        (B, G, R) = cv2.split(resized)\n",
    "\n",
    "        clahe = cv2.createCLAHE(clipLimit=2.0, tileGridSize=(8,8))\n",
    "\n",
    "        c0 = clahe.apply(B)\n",
    "        c1 = clahe.apply(G)\n",
    "        c2 = clahe.apply(R)\n",
    "\n",
    "        merged = cv2.merge([c0, c1, c2])\n",
    "        \n",
    "        cv2.imwrite('./newdataset/'+ level +'/'+name, merged )\n",
    "    "
   ]
  }
 ],
 "metadata": {
  "kernelspec": {
   "display_name": "Python 3 (ipykernel)",
   "language": "python",
   "name": "python3"
  },
  "language_info": {
   "codemirror_mode": {
    "name": "ipython",
    "version": 3
   },
   "file_extension": ".py",
   "mimetype": "text/x-python",
   "name": "python",
   "nbconvert_exporter": "python",
   "pygments_lexer": "ipython3",
   "version": "3.10.8"
  }
 },
 "nbformat": 4,
 "nbformat_minor": 5
}
